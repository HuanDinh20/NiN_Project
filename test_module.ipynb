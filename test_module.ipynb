{
 "cells": [
  {
   "cell_type": "code",
   "execution_count": 9,
   "outputs": [],
   "source": [
    "import torch\n",
    "from torch import nn\n",
    "\n",
    "\n",
    "class NiN(nn.Module):\n",
    "\n",
    "    def __init__(self, num_classes=10):\n",
    "        super(NiN, self).__init__()\n",
    "        self.net = nn.Sequential(\n",
    "            self.nin_block(out_channel=96, kernel_size=11, stride=4, padding=0),\n",
    "            nn.MaxPool2d(kernel_size=3, stride=2),\n",
    "            self.nin_block(out_channel=256, kernel_size=3, stride=1, padding=1),\n",
    "            nn.MaxPool2d(kernel_size=3, stride=2),\n",
    "            self.nin_block(out_channel=384, kernel_size=3, stride=1, padding=1),\n",
    "            nn.MaxPool2d(kernel_size=3, stride=2),\n",
    "            self.nin_block(num_classes, kernel_size=3, stride=1, padding=1),\n",
    "            nn.AdaptiveAvgPool2d((1, 1)),\n",
    "            nn.Flatten()\n",
    "        )\n",
    "\n",
    "    def forward(self, X):\n",
    "        X = self.net(X)\n",
    "        return X\n",
    "\n",
    "    @staticmethod\n",
    "    def nin_block(out_channel, kernel_size, stride, padding):\n",
    "        nin = nn.Sequential(\n",
    "            nn.LazyConv2d(out_channel, kernel_size=kernel_size, stride=stride, padding=padding), nn.ReLU(),\n",
    "            nn.LazyConv2d(out_channel, kernel_size=1), nn.ReLU(),\n",
    "            nn.LazyConv2d(out_channel, kernel_size=1), nn.ReLU())\n",
    "        return nin\n",
    "\n",
    "    @staticmethod\n",
    "    def xavier_uniform(m):\n",
    "        if type(m) in [nn.LazyLinear, nn.LazyConv2d]:\n",
    "            torch.nn.init.xavier_uniform_(m.weight)\n",
    "            m.bias.data.fill_(0.0001)\n",
    "\n",
    "    def apply_init(self, inputs, init=None):\n",
    "        self.forward(*inputs)\n",
    "        if init is not None:\n",
    "            self.net.apply(init)\n",
    "\n",
    "    def layer_summary(self, X_shape:tuple):\n",
    "        X = torch.rand(*X_shape)\n",
    "        for layer in self.net:\n",
    "            X = layer(X)\n",
    "            print(layer.__class__.__name__, \"output shape: \", X.shape)"
   ],
   "metadata": {
    "collapsed": false,
    "pycharm": {
     "name": "#%%\n"
    }
   }
  },
  {
   "cell_type": "code",
   "execution_count": 10,
   "outputs": [],
   "source": [
    "model = NiN()"
   ],
   "metadata": {
    "collapsed": false,
    "pycharm": {
     "name": "#%%\n"
    }
   }
  },
  {
   "cell_type": "code",
   "execution_count": 12,
   "outputs": [
    {
     "name": "stdout",
     "output_type": "stream",
     "text": [
      "Sequential output shape:  torch.Size([1, 96, 54, 54])\n",
      "MaxPool2d output shape:  torch.Size([1, 96, 26, 26])\n",
      "Sequential output shape:  torch.Size([1, 256, 26, 26])\n",
      "MaxPool2d output shape:  torch.Size([1, 256, 12, 12])\n",
      "Sequential output shape:  torch.Size([1, 384, 12, 12])\n",
      "MaxPool2d output shape:  torch.Size([1, 384, 5, 5])\n",
      "Sequential output shape:  torch.Size([1, 10, 5, 5])\n",
      "AdaptiveAvgPool2d output shape:  torch.Size([1, 10, 1, 1])\n",
      "Flatten output shape:  torch.Size([1, 10])\n"
     ]
    }
   ],
   "source": [
    "model.layer_summary((1,1,224,224))"
   ],
   "metadata": {
    "collapsed": false,
    "pycharm": {
     "name": "#%%\n"
    }
   }
  },
  {
   "cell_type": "code",
   "execution_count": null,
   "outputs": [],
   "source": [],
   "metadata": {
    "collapsed": false,
    "pycharm": {
     "name": "#%%\n"
    }
   }
  }
 ],
 "metadata": {
  "kernelspec": {
   "display_name": "Python 3",
   "language": "python",
   "name": "python3"
  },
  "language_info": {
   "codemirror_mode": {
    "name": "ipython",
    "version": 2
   },
   "file_extension": ".py",
   "mimetype": "text/x-python",
   "name": "python",
   "nbconvert_exporter": "python",
   "pygments_lexer": "ipython2",
   "version": "2.7.6"
  }
 },
 "nbformat": 4,
 "nbformat_minor": 0
}